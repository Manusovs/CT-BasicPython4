{
 "cells": [
  {
   "cell_type": "markdown",
   "metadata": {},
   "source": [
    "# Object-Oriented-Programming (OOP)"
   ]
  },
  {
   "cell_type": "markdown",
   "metadata": {},
   "source": [
    "## Tasks Today:\n",
    "\n",
    "   \n",
    "\n",
    "1) <b>Creating a Class (Initializing/Declaring)</b> <br>\n",
    "2) <b>Using a Class (Instantiating)</b> <br>\n",
    " &nbsp;&nbsp;&nbsp;&nbsp; a) Creating One Instance <br>\n",
    " &nbsp;&nbsp;&nbsp;&nbsp; b) Creating Multiple Instances <br>\n",
    " &nbsp;&nbsp;&nbsp;&nbsp; c) In-Class Exercise #1 - Create a Class 'Car' and instantiate three different makes of cars <br>\n",
    "3) <b>The \\__init\\__() Method</b> <br>\n",
    " &nbsp;&nbsp;&nbsp;&nbsp; a) The 'self' Attribute <br>\n",
    "4) <b>Class Attributes</b> <br>\n",
    " &nbsp;&nbsp;&nbsp;&nbsp; a) Initializing Attributes <br>\n",
    " &nbsp;&nbsp;&nbsp;&nbsp; b) Setting an Attribute Outside of the \\__init\\__() Method <br>\n",
    " &nbsp;&nbsp;&nbsp;&nbsp; c) Setting Defaults for Attributes <br>\n",
    " &nbsp;&nbsp;&nbsp;&nbsp; d) Accessing Class Attributes <br>\n",
    " &nbsp;&nbsp;&nbsp;&nbsp; e) Changing Class Attributes <br>\n",
    " &nbsp;&nbsp;&nbsp;&nbsp; f) In-Class Exercise #2 - Add a color and wheels attribute to your 'Car' class <br>\n",
    "5) <b>Class Methods</b> <br>\n",
    " &nbsp;&nbsp;&nbsp;&nbsp; a) Creating <br>\n",
    " &nbsp;&nbsp;&nbsp;&nbsp; b) Calling <br>\n",
    " &nbsp;&nbsp;&nbsp;&nbsp; c) Modifying an Attribute's Value Through a Method <br>\n",
    " &nbsp;&nbsp;&nbsp;&nbsp; d) Incrementing an Attribute's Value Through a Method <br>\n",
    " &nbsp;&nbsp;&nbsp;&nbsp; e) In-Class Exercise #3 - Add a method that prints the cars color and wheel number, then call them <br>\n",
    "6) <b>Inheritance</b> <br>\n",
    " &nbsp;&nbsp;&nbsp;&nbsp; a) Syntax for Inheriting from a Parent Class <br>\n",
    " &nbsp;&nbsp;&nbsp;&nbsp; b) The \\__init\\__() Method for a Child Class (super()) <br>\n",
    " &nbsp;&nbsp;&nbsp;&nbsp; c) Defining Attributes and Methods for the Child Class <br>\n",
    " &nbsp;&nbsp;&nbsp;&nbsp; d) Method Overriding <br>\n",
    " &nbsp;&nbsp;&nbsp;&nbsp; e) In-Class Exercise #4 - Create a class 'Ford' that inherits from 'Car' class and initialize it as a Blue Ford Explorer with 4 wheels using the super() method <br>\n",
    "7) <b>Classes as Attributes</b> <br>\n",
    "8) <b>Exercises</b> <br>\n",
    " &nbsp;&nbsp;&nbsp;&nbsp; a) Exercise #1 - Turn the shopping cart program from yesterday into an object-oriented program <br>"
   ]
  },
  {
   "cell_type": "markdown",
   "metadata": {},
   "source": [
    "## Creating a Class (Initializing/Declaring)\n",
    "<p>When creating a class, function, or even a variable you are initializing that object. Initializing and Declaring occur at the same time in Python, whereas in lower level languages you have to declare an object before initializing it. This is the first step in the process of using a class.</p>"
   ]
  },
  {
   "cell_type": "code",
   "execution_count": 4,
   "metadata": {},
   "outputs": [],
   "source": [
    "class Car():\n",
    "    wheels = 4\n",
    "    color = 'blue'"
   ]
  },
  {
   "cell_type": "markdown",
   "metadata": {},
   "source": [
    "## Using a Class (Instantiating)\n",
    "<p>The process of creating a class is called <i>Instantiating</i>. Each time you create a variable of that type of class, it is referred to as an <i>Instance</i> of that class. This is the second step in the process of using a class.</p>"
   ]
  },
  {
   "cell_type": "markdown",
   "metadata": {},
   "source": [
    "##### Creating One Instance"
   ]
  },
  {
   "cell_type": "code",
   "execution_count": null,
   "metadata": {},
   "outputs": [],
   "source": [
    "ford = Car()"
   ]
  },
  {
   "cell_type": "markdown",
   "metadata": {},
   "source": [
    "##### Creating Multiple Instances"
   ]
  },
  {
   "cell_type": "code",
   "execution_count": null,
   "metadata": {},
   "outputs": [],
   "source": [
    "# everything I did on Google Colaborative was lost"
   ]
  },
  {
   "cell_type": "markdown",
   "metadata": {},
   "source": [
    "##### In-Class Exercise #1 - Create a Class 'Car' and Instantiate three different makes of cars"
   ]
  },
  {
   "cell_type": "code",
   "execution_count": null,
   "metadata": {},
   "outputs": [],
   "source": [
    "# everything I did on Google Colaborative was lost"
   ]
  },
  {
   "cell_type": "markdown",
   "metadata": {},
   "source": [
    "## The \\__init\\__() Method <br>\n",
    "<p>This method is used in almost every created class, and called only once upon the creation of the class instance. This method will initialize all variables needed for the object.</p>"
   ]
  },
  {
   "cell_type": "code",
   "execution_count": null,
   "metadata": {},
   "outputs": [],
   "source": [
    "# everything I did on Google Colaborative was lost"
   ]
  },
  {
   "cell_type": "markdown",
   "metadata": {},
   "source": [
    "##### The 'self' Attribute <br>\n",
    "<p>This attribute is required to keep track of specific instance's attributes. Without the self attribute, the program would not know how to reference or keep track of an instance's attributes.</p>"
   ]
  },
  {
   "cell_type": "code",
   "execution_count": null,
   "metadata": {},
   "outputs": [],
   "source": [
    "# see above"
   ]
  },
  {
   "cell_type": "markdown",
   "metadata": {},
   "source": [
    "## Class Attributes <br>\n",
    "<p>While variables are inside of a class, they are referred to as attributes and not variables. When someone says 'attribute' you know they're speaking about a class. Attributes can be initialized through the init method, or outside of it.</p>"
   ]
  },
  {
   "cell_type": "markdown",
   "metadata": {},
   "source": [
    "##### Initializing Attributes"
   ]
  },
  {
   "cell_type": "code",
   "execution_count": null,
   "metadata": {},
   "outputs": [],
   "source": [
    "# see above"
   ]
  },
  {
   "cell_type": "markdown",
   "metadata": {},
   "source": [
    "##### Accessing Class Attributes"
   ]
  },
  {
   "cell_type": "code",
   "execution_count": null,
   "metadata": {
    "scrolled": true
   },
   "outputs": [],
   "source": [
    "# See Above"
   ]
  },
  {
   "cell_type": "markdown",
   "metadata": {},
   "source": [
    "##### Setting Defaults for Attributes"
   ]
  },
  {
   "cell_type": "code",
   "execution_count": null,
   "metadata": {},
   "outputs": [],
   "source": [
    "# everything I did on Google Colaborative was lost"
   ]
  },
  {
   "cell_type": "markdown",
   "metadata": {},
   "source": [
    "##### Changing Class Attributes <br>\n",
    "<p>Keep in mind there are global class attributes and then there are attributes only available to each class instance which won't effect other classes.</p>"
   ]
  },
  {
   "cell_type": "code",
   "execution_count": null,
   "metadata": {},
   "outputs": [],
   "source": [
    "# everything I did on Google Colaborative was lost"
   ]
  },
  {
   "cell_type": "code",
   "execution_count": null,
   "metadata": {},
   "outputs": [],
   "source": []
  },
  {
   "cell_type": "markdown",
   "metadata": {},
   "source": [
    "##### In-Class Exercise #2 - Add a doors and seats attribute to your 'Car' class then print out two different instances with different doors and seats"
   ]
  },
  {
   "cell_type": "code",
   "execution_count": null,
   "metadata": {},
   "outputs": [],
   "source": [
    "# everything I did on Google Colaborative was lost"
   ]
  },
  {
   "cell_type": "markdown",
   "metadata": {},
   "source": [
    "## Class Methods <br>\n",
    "<p>While inside of a class, functions are referred to as 'methods'. If you hear someone mention methods, they're speaking about classes. Methods are essentially functions, but only callable on the instances of a class.</p>"
   ]
  },
  {
   "cell_type": "markdown",
   "metadata": {},
   "source": [
    "##### Creating"
   ]
  },
  {
   "cell_type": "code",
   "execution_count": 4,
   "metadata": {},
   "outputs": [],
   "source": [
    "class ShoppingBag():\n",
    "    '''\n",
    "    The Shoppingbag class will have handles, capacity, \n",
    "    and items inside\n",
    "#5    \n",
    "    Attributes will include:\n",
    "    handles: expected to be an integer\n",
    "    capacity: expected to be a float\n",
    "    items: expected to be a list.  \n",
    "#10    '''\n",
    "    \n",
    "    def __init__(self, handles, items= [],  capacity = 10):\n",
    "        self.handles = handles\n",
    "        self.items = []\n",
    "        self.capacity = capacity\n",
    "  #16  \n",
    "    def showShoppingBag(self):\n",
    "        if len(self.items) == 0:\n",
    "            print('You have no items.')\n",
    "        else:\n",
    "            print(\"You have items in your bag!!!\")\n",
    "            for item in self.items:\n",
    "                print(item)\n",
    " #24   \n",
    "    def showCapacity(self):\n",
    "        print(f'Your remaining capacity is: {self.capacity - len(self.items)}')\n",
    "#27    \n",
    "    def addToShoppingBag(self):\n",
    "        if len(self.items) == self.capacity:\n",
    "            print('Your shopping bag is full')\n",
    "        else:\n",
    "            product = input('What would you like to add? ')\n",
    "            self.items.append(product)\n",
    "        \n",
    "    def showHandles(self):\n",
    "        print(f'You have {self.handles} handles on your bag')\n",
    "    \n",
    "    #Too danagerous to use for now\n",
    "#     def changeBagCapacity(slef, capacity):\n",
    "#         self.capacity - capacity"
   ]
  },
  {
   "cell_type": "markdown",
   "metadata": {},
   "source": [
    "##### Calling"
   ]
  },
  {
   "cell_type": "code",
   "execution_count": 5,
   "metadata": {},
   "outputs": [
    {
     "name": "stdout",
     "output_type": "stream",
     "text": [
      "What would you like to do?\n",
      "\n",
      "You may:\n",
      "- Add\n",
      "-Show\n",
      "-Quit\n",
      "\"add\n",
      "What would you like to add? carrots\n",
      "What would you like to do?\n",
      "\n",
      "You may:\n",
      "- Add\n",
      "-Show\n",
      "-Quit\n",
      "\"add cleery\n",
      "That is not a valid option, please type add, remove, show, or quit\n",
      "What would you like to do?\n",
      "\n",
      "You may:\n",
      "- Add\n",
      "-Show\n",
      "-Quit\n",
      "\"add\n",
      "What would you like to add? celery\n",
      "What would you like to do?\n",
      "\n",
      "You may:\n",
      "- Add\n",
      "-Show\n",
      "-Quit\n",
      "\"show\n",
      "What would you like to see: \n",
      "- Capacity \n",
      "- Handles \n",
      "- Shopping Baghandles\n",
      "What would you like to do?\n",
      "\n",
      "You may:\n",
      "- Add\n",
      "-Show\n",
      "-Quit\n",
      "\"show\n",
      "What would you like to see: \n",
      "- Capacity \n",
      "- Handles \n",
      "- Shopping Bagshopping bag\n",
      "What would you like to do?\n",
      "\n",
      "You may:\n",
      "- Add\n",
      "-Show\n",
      "-Quit\n",
      "\"quit\n",
      "You have items in your bag!!!\n",
      "carrots\n",
      "celery\n",
      "Thanks for shopping!\n",
      "check\n"
     ]
    }
   ],
   "source": [
    "# See Above\n",
    "\n",
    "wholeFoodsBag = ShoppingBag(2)\n",
    "\n",
    "def run():\n",
    "    while True:\n",
    "        response = input('What would you like to do?\\n\\nYou may:\\n- Add\\n-Show\\n-Quit\\n\"')\n",
    "        \n",
    "        if response.lower() == 'quit':\n",
    "            wholeFoodsBag.showShoppingBag()\n",
    "            print( 'Thanks for shopping!')\n",
    "            break\n",
    "        elif response.lower() == 'add':\n",
    "            wholeFoodsBag.addToShoppingBag()\n",
    "        elif response.lower() == 'show':\n",
    "            showChoice = input('What would you like to see: \\n- Capacity \\n- Handles \\n- Shopping Bag')\n",
    "            if showChoice.lower() == 'capacity':\n",
    "                wholeFoodsBag.showShoppingBag()\n",
    "        else:\n",
    "            print('That is not a valid option, please type add, remove, show, or quit')\n",
    "            \n",
    "run()"
   ]
  },
  {
   "cell_type": "markdown",
   "metadata": {},
   "source": [
    "##### Modifying an Attribute's Value Through a Method"
   ]
  },
  {
   "cell_type": "code",
   "execution_count": 1,
   "metadata": {},
   "outputs": [
    {
     "name": "stdout",
     "output_type": "stream",
     "text": [
      "check\n"
     ]
    }
   ],
   "source": [
    "#skipped in class"
   ]
  },
  {
   "cell_type": "markdown",
   "metadata": {},
   "source": [
    "##### Incrementing an Attribute's Value Through a Method"
   ]
  },
  {
   "cell_type": "code",
   "execution_count": null,
   "metadata": {},
   "outputs": [],
   "source": [
    "#skipped in class"
   ]
  },
  {
   "cell_type": "markdown",
   "metadata": {},
   "source": [
    "##### In-Class Exercise #3 - Add a method that takes in three parameters of year, doors and seats and prints out a formatted print statement with make, model, year, seats, and doors"
   ]
  },
  {
   "cell_type": "code",
   "execution_count": 33,
   "metadata": {},
   "outputs": [
    {
     "name": "stdout",
     "output_type": "stream",
     "text": [
      "What is the make of your car? a\n",
      "What is the model of your car? b\n",
      "What year is your b? c\n",
      "How many doors does your c b have? d\n",
      "How many seats does your c b have? e\n",
      "This car is from c and is a a b and has d doors and e seats.\n"
     ]
    }
   ],
   "source": [
    "# Create class with 2 paramters inside of the __init__ which are make and model\n",
    "\n",
    "# Inside of the Car class create a method that has 4 parameter in total (self,year,door,seats)\n",
    "\n",
    "# Output: This car is from 2019 and is a Ford Expolorer and has 4 doors and 5 seats\n",
    "class Vehicle():\n",
    "\n",
    "        '''\n",
    "    The Vehicle class will have a make and model\n",
    "    \n",
    "    Attributes will include:\n",
    "    make: expected to be an string\n",
    "    model: expected to be a string\n",
    "    '''\n",
    "#15    \n",
    "        def __init__(self, make, model):\n",
    "            self.make = make\n",
    "            self.model = model\n",
    "#19\n",
    "test = Vehicle(\"a\", \"b\")\n",
    "\n",
    "class Car():\n",
    "   \n",
    "        '''\n",
    "    The Car class will have year, door, and seats\n",
    "    \n",
    "    Attributes will include:\n",
    "    year: expected to be an integer\n",
    "    door: expected to be an integer\n",
    "    seats: expected to be an integer\n",
    "    '''      \n",
    "        def __init__(self, year, door, seats):\n",
    "            self.year = year\n",
    "            self.door = door\n",
    "            self.seats = seats\n",
    "# 29\n",
    "\n",
    "# 34 This function determines all the information needed for the sentence\n",
    "def car_description():\n",
    "    imake = input('What is the make of your car? ')\n",
    "    imodel = input('What is the model of your car? ')\n",
    "    iyear = input(f'What year is your {imodel}? ')\n",
    "    #ideally we could replace these questions with a lookup style check\n",
    "    #that could find specific model years and find the other information\n",
    "    idoors = input(f'How many doors does your {iyear} {imodel} have? ')\n",
    "    iseats = input(f'How many seats does your {iyear} {imodel} have? ')\n",
    "    users_car = Car(iyear, idoors, iseats)\n",
    "    users_vehicle = Vehicle(imake, imodel)\n",
    "    # This prints the sentence once we have all the information, I used function notation\n",
    "    print(f'This car is from {users_car.year} and is a {users_vehicle.make} {users_vehicle.model} and has {users_car.door} doors and {users_car.seats} seats.')\n",
    "\n",
    "#This is where we actually run the function.  \n",
    "car_description()\n",
    "    "
   ]
  },
  {
   "cell_type": "markdown",
   "metadata": {},
   "source": [
    "## Inheritance <br>\n",
    "<p>You can create a child-parent relationship between two classes by using inheritance. What this allows you to do is have overriding methods, but also inherit traits from the parent class. Think of it as an actual parent and child, the child will inherit the parent's genes, as will the classes in OOP</p>"
   ]
  },
  {
   "cell_type": "markdown",
   "metadata": {},
   "source": [
    "##### Syntax for Inheriting from a Parent Class"
   ]
  },
  {
   "cell_type": "code",
   "execution_count": null,
   "metadata": {},
   "outputs": [],
   "source": [
    "#skipped"
   ]
  },
  {
   "cell_type": "markdown",
   "metadata": {},
   "source": [
    "##### The \\__init\\__() Method for a Child Class - super()"
   ]
  },
  {
   "cell_type": "code",
   "execution_count": null,
   "metadata": {
    "scrolled": true
   },
   "outputs": [],
   "source": [
    "#skipped"
   ]
  },
  {
   "cell_type": "markdown",
   "metadata": {},
   "source": [
    "##### Defining Attributes and Methods for the Child Class"
   ]
  },
  {
   "cell_type": "code",
   "execution_count": null,
   "metadata": {},
   "outputs": [],
   "source": [
    "# See Above"
   ]
  },
  {
   "cell_type": "markdown",
   "metadata": {},
   "source": [
    "##### Method Overriding"
   ]
  },
  {
   "cell_type": "code",
   "execution_count": null,
   "metadata": {},
   "outputs": [],
   "source": [
    "# See Above"
   ]
  },
  {
   "cell_type": "markdown",
   "metadata": {},
   "source": [
    "## Classes as Attributes <br>\n",
    "<p>Classes can also be used as attributes within another class. This is useful in situations where you need to keep variables locally stored, instead of globally stored.</p>"
   ]
  },
  {
   "cell_type": "code",
   "execution_count": null,
   "metadata": {},
   "outputs": [],
   "source": []
  },
  {
   "cell_type": "markdown",
   "metadata": {},
   "source": [
    "# Exercises"
   ]
  },
  {
   "cell_type": "markdown",
   "metadata": {},
   "source": [
    "### Exercise 1 - Turn the shopping cart program from yesterday into an object-oriented program\n",
    "\n",
    "The comments in the cell below are there as a guide for thinking about the problem. However, if you feel a different way is best for you and your own thought process, please do what feels best for you by all means."
   ]
  },
  {
   "cell_type": "code",
   "execution_count": 46,
   "metadata": {},
   "outputs": [
    {
     "name": "stdout",
     "output_type": "stream",
     "text": [
      "What would you like to do?\n",
      "\n",
      "You may:\n",
      "- Add\n",
      "- Remove\n",
      "-Show\n",
      "-Quit\n",
      "add \n",
      "What would you like to add to your cart? carrot\n",
      "What would you like to do?\n",
      "\n",
      "You may:\n",
      "- Add\n",
      "- Remove\n",
      "-Show\n",
      "-Quit\n",
      "quit\n",
      "You have items in your cart!!!\n",
      "carrot\n"
     ]
    }
   ],
   "source": [
    "# Create a class called cart that retains items and has methods to add, remove, and show\n",
    "# Start with creating a class\n",
    "class Cart():\n",
    "    #first should be init,but only need items variable (and always use self)\n",
    "    def __init__(self, items = []):\n",
    "        self.items = items\n",
    "#6  #add new items  \n",
    "    def add_item(self):\n",
    "        added = input(\"What would you like to add to your cart? \")\n",
    "        self.items.append(added)\n",
    "# #10  # removed this one for ShowCart     \n",
    "#     def pretty_print(self): \n",
    "#         for item in self.items:\n",
    "#             print(item)\n",
    "#14  #this prints everything and also accounts for no items          \n",
    "    def show_Cart(self):\n",
    "        if len(self.items) == 0:\n",
    "            print('You have no items.')\n",
    "        else:\n",
    "            print(\"You have items in your cart!!!\")\n",
    "            for item in self.items:\n",
    "                print(item)\n",
    "#21   #this deletes items, also makes sure gives them a chance to get it correctly, lastly it also gives \n",
    "      # them a chance to go back to main menu instead of deleting somthing\n",
    "    def delete_item(self):\n",
    "        #used while True with enough breaks to make sure not to have an unendable loop\n",
    "        while True:\n",
    "            #this part deletes item, and returns to main menu\n",
    "            deleted = input(\"What would you like to remove from your cart? \")\n",
    "            if deleted in self.items:\n",
    "                self.items.remove(deleted)\n",
    "                break\n",
    "            # this part helps them correct their answer or return to main menu\n",
    "            else:\n",
    "                print(f'{deleted} not in Cart please select item from in cart, type \"return\" to return to main menu.')\n",
    "                for i in self.items:\n",
    "                      print(i)\n",
    "                if deleted.lower() == \"return\":\n",
    "                      break\n",
    "# defined the Cart for our function\n",
    "sCart = Cart()\n",
    "# defined function the function just gives if's and relies on the class functions to run everything\n",
    "def goshopping():\n",
    "    while True:\n",
    "        task = input('What would you like to do?\\n\\nYou may:\\n- Add\\n- Remove\\n-Show\\n-Quit\\n' ).strip(\" \")\n",
    "        if task.lower() == \"add\":\n",
    "            sCart.add_item()\n",
    "        elif task.lower() == \"remove\":\n",
    "            sCart.delete_item()\n",
    "        elif task.lower() == \"show\":\n",
    "            sCart.show_Cart()\n",
    "        elif task.lower() == \"quit\":\n",
    "            sCart.show_Cart()\n",
    "            break\n",
    "        # this is in case they don't type one of the options\n",
    "        else:\n",
    "             print(f'{task} not an option please select one of the following: \\n\\nYou may:\\n- Add\\n- Remove\\n-Show\\n-Quit\\n')\n",
    "#actually run the function\n",
    "goshopping()                \n",
    "                      \n",
    "                  "
   ]
  },
  {
   "cell_type": "markdown",
   "metadata": {},
   "source": [
    "### Exercise 2 - Write a Python class which has two methods get_String and print_String. get_String accept a string from the user and print_String print the string in upper case"
   ]
  },
  {
   "cell_type": "code",
   "execution_count": 91,
   "metadata": {},
   "outputs": [
    {
     "name": "stdout",
     "output_type": "stream",
     "text": [
      "Please type something here. this should work\n",
      "THIS SHOULD WORK\n"
     ]
    }
   ],
   "source": [
    "#Start by creating the needed class\n",
    "class Phrase:\n",
    "'''Class with 1 attribute \"words\" (in addition to self)\n",
    "words are expected to be a string'''\n",
    "    #first use init function to create the \"words\" attribute (defaulting to something isn't needed)\n",
    "    def __init__(self, words = \"something\"):\n",
    "        self.words = words  \n",
    "\n",
    "    # 1st function accepts an input\n",
    "    def get_String(self):\n",
    "        self.words = input(\"Please type something here. \") #we could capitalize here, but then we would lose the original \n",
    "        #cap for other purposes\n",
    "        return(self.words)\n",
    "        \n",
    "    # 2nd function prints everything upper cased    \n",
    "    def print_String(self):\n",
    "        #Make sure to keep referencing the words attribute or it won't have a reference.  \n",
    "        print(self.words.upper())\n",
    "    \n",
    "def run():\n",
    "    sentence = Phrase()\n",
    "#     sentence.print_String.get_String() #I couldn't get this form to work like it was asking in the prompt\n",
    "#I'm not sure what additional step is needed to make them work in a single line chaining .methods\n",
    "    # Works very easily using back to back methods (1st get string)\n",
    "    sentence.get_String() \n",
    "    # then capitalize during print\n",
    "    sentence.print_String()\n",
    "\n",
    "run()"
   ]
  },
  {
   "cell_type": "code",
   "execution_count": null,
   "metadata": {},
   "outputs": [],
   "source": [
    "another\n"
   ]
  }
 ],
 "metadata": {
  "kernelspec": {
   "display_name": "Python 3 (ipykernel)",
   "language": "python",
   "name": "python3"
  },
  "language_info": {
   "codemirror_mode": {
    "name": "ipython",
    "version": 3
   },
   "file_extension": ".py",
   "mimetype": "text/x-python",
   "name": "python",
   "nbconvert_exporter": "python",
   "pygments_lexer": "ipython3",
   "version": "3.10.9"
  }
 },
 "nbformat": 4,
 "nbformat_minor": 2
}
